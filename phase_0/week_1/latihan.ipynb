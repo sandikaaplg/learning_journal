{
 "cells": [
  {
   "cell_type": "code",
   "execution_count": 3,
   "metadata": {},
   "outputs": [
    {
     "name": "stdout",
     "output_type": "stream",
     "text": [
      "15\n"
     ]
    }
   ],
   "source": [
    "angka = 15\n",
    "print (angka)"
   ]
  },
  {
   "cell_type": "code",
   "execution_count": 11,
   "metadata": {},
   "outputs": [
    {
     "name": "stdout",
     "output_type": "stream",
     "text": [
      "8lebih besar\n"
     ]
    }
   ],
   "source": [
    "angka=8\n",
    "print(f\"{angka}lebih besar\")"
   ]
  },
  {
   "cell_type": "code",
   "execution_count": 20,
   "metadata": {},
   "outputs": [
    {
     "name": "stdout",
     "output_type": "stream",
     "text": [
      "8 lebih kecil dari 10\n"
     ]
    }
   ],
   "source": [
    "angka=8\n",
    "if angka>10:\n",
    "    print(f'{angka} lebih besar dari 10')\n",
    "    print('Ini masih dalam kondisi if')\n",
    "else:\n",
    "    print(f'{angka} lebih kecil dari 10')"
   ]
  },
  {
   "cell_type": "markdown",
   "metadata": {},
   "source": [
    "LOOPING"
   ]
  },
  {
   "cell_type": "code",
   "execution_count": 22,
   "metadata": {},
   "outputs": [
    {
     "name": "stdout",
     "output_type": "stream",
     "text": [
      "halo sandika how you doin\n"
     ]
    }
   ],
   "source": [
    "print('halo sandika how you doin')"
   ]
  },
  {
   "cell_type": "code",
   "execution_count": 24,
   "metadata": {},
   "outputs": [
    {
     "name": "stdout",
     "output_type": "stream",
     "text": [
      "bambang\n",
      "bambang\n",
      "bambang\n",
      "bambang\n",
      "bambang\n"
     ]
    }
   ],
   "source": [
    "kali=0\n",
    "while kali < 5:\n",
    "    print ('bambang')\n",
    "    kali = kali +1"
   ]
  },
  {
   "cell_type": "code",
   "execution_count": 28,
   "metadata": {},
   "outputs": [],
   "source": [
    "list_makanan = []\n",
    "makanan =''\n",
    "while makanan != 'cukup':\n",
    "    if makanan != '':\n",
    "        list_makanan.append(makanan)\n",
    "    makanan = input('masukkan pesanan anda:')"
   ]
  },
  {
   "cell_type": "code",
   "execution_count": 29,
   "metadata": {},
   "outputs": [
    {
     "name": "stdout",
     "output_type": "stream",
     "text": [
      "['makanan', 'makan', 'ayam', 'kucing']\n"
     ]
    }
   ],
   "source": [
    "print(list_makanan)"
   ]
  },
  {
   "cell_type": "code",
   "execution_count": 30,
   "metadata": {},
   "outputs": [
    {
     "name": "stdout",
     "output_type": "stream",
     "text": [
      "7*1=7\n",
      "7*2=14\n",
      "7*3=21\n",
      "7*4=28\n",
      "7*5=35\n",
      "7*6=42\n",
      "7*7=49\n",
      "7*8=56\n",
      "7*9=63\n",
      "7*10=70\n"
     ]
    }
   ],
   "source": [
    "i=1\n",
    "while i<=10:\n",
    "  print(f'{7}*{i}={7*i}')\n",
    "  i=i+1"
   ]
  },
  {
   "cell_type": "code",
   "execution_count": 32,
   "metadata": {},
   "outputs": [
    {
     "name": "stdout",
     "output_type": "stream",
     "text": [
      "saya jual pepaya\n",
      "saya jual mangga\n",
      "saya jual pisang\n",
      "saya jual jambu\n"
     ]
    }
   ],
   "source": [
    "# for loop\n",
    "buahbuahan=['pepaya','mangga','pisang','jambu']\n",
    "for item in buahbuahan:\n",
    "    print(f'saya jual {item}')"
   ]
  },
  {
   "cell_type": "code",
   "execution_count": 34,
   "metadata": {},
   "outputs": [
    {
     "name": "stdout",
     "output_type": "stream",
     "text": [
      "7*1=7\n",
      "7*2=14\n",
      "7*3=21\n",
      "7*4=28\n",
      "7*5=35\n",
      "7*6=42\n",
      "7*8=56\n",
      "7*9=63\n",
      "7*10=70\n"
     ]
    }
   ],
   "source": [
    "for i in range (1,11):\n",
    "    if i==7:\n",
    "        continue\n",
    "    print(f'{7}*{i}={7*i}')"
   ]
  },
  {
   "cell_type": "code",
   "execution_count": 35,
   "metadata": {},
   "outputs": [],
   "source": [
    "from random import randint"
   ]
  },
  {
   "cell_type": "code",
   "execution_count": 39,
   "metadata": {},
   "outputs": [
    {
     "data": {
      "text/plain": [
       "58"
      ]
     },
     "execution_count": 39,
     "metadata": {},
     "output_type": "execute_result"
    }
   ],
   "source": [
    "randint(1,100)"
   ]
  },
  {
   "cell_type": "code",
   "execution_count": 41,
   "metadata": {},
   "outputs": [
    {
     "name": "stdout",
     "output_type": "stream",
     "text": [
      "angka terlalu besar\n",
      "angka terlalu kecil\n",
      "angka terlalu kecil\n",
      "angka terlalu kecil\n",
      "angka terlalu besar\n",
      "angka terlalu besar\n",
      "selamat angka anda benar angka anda adalah 5\n"
     ]
    }
   ],
   "source": [
    "angka_komputer = randint(1,10)\n",
    "angka_tebakan = 0\n",
    "while angka_tebakan!= angka_komputer:\n",
    "    angka_tebakan= input('masukkan tebakan anda :')\n",
    "    angka_tebakan = int(angka_tebakan)\n",
    "    if angka_tebakan<angka_komputer:\n",
    "        print('angka terlalu kecil')\n",
    "    elif angka_tebakan>angka_komputer:\n",
    "        print('angka terlalu besar')\n",
    "    else:\n",
    "        print(f'selamat angka anda benar angka anda adalah {angka_komputer}')"
   ]
  }
 ],
 "metadata": {
  "interpreter": {
   "hash": "c43cc35bf10d47ee272d24c9e8f3a3c68ece12bba4bc202b3d531e99134b684d"
  },
  "kernelspec": {
   "display_name": "Python 3.10.1 64-bit",
   "language": "python",
   "name": "python3"
  },
  "language_info": {
   "codemirror_mode": {
    "name": "ipython",
    "version": 3
   },
   "file_extension": ".py",
   "mimetype": "text/x-python",
   "name": "python",
   "nbconvert_exporter": "python",
   "pygments_lexer": "ipython3",
   "version": "3.10.1"
  },
  "orig_nbformat": 4
 },
 "nbformat": 4,
 "nbformat_minor": 2
}
