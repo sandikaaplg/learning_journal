{
 "cells": [
  {
   "cell_type": "code",
   "execution_count": 2,
   "metadata": {},
   "outputs": [],
   "source": [
    "#konversi celcius ke kelvin\n"
   ]
  },
  {
   "cell_type": "code",
   "execution_count": 8,
   "metadata": {},
   "outputs": [
    {
     "name": "stdout",
     "output_type": "stream",
     "text": [
      "suhu dalam kelvin adalah 293\n"
     ]
    }
   ],
   "source": [
    "def convert (c):\n",
    "    k=c+273\n",
    "    return k\n",
    "print ('suhu dalam kelvin adalah' ,convert(20))"
   ]
  },
  {
   "cell_type": "markdown",
   "metadata": {},
   "source": [
    "#kelvin ke celcius"
   ]
  },
  {
   "cell_type": "code",
   "execution_count": 9,
   "metadata": {},
   "outputs": [
    {
     "name": "stdout",
     "output_type": "stream",
     "text": [
      "suhu dalam celcius adalah 20\n"
     ]
    }
   ],
   "source": [
    "def convert (k):\n",
    "    c=k-273\n",
    "    return c\n",
    "print ('suhu dalam celcius adalah' ,convert(293))"
   ]
  },
  {
   "cell_type": "markdown",
   "metadata": {},
   "source": [
    "#fungsi fahrenheit dengan input celcius kelvin"
   ]
  },
  {
   "cell_type": "code",
   "execution_count": 41,
   "metadata": {},
   "outputs": [
    {
     "name": "stdout",
     "output_type": "stream",
     "text": [
      "(68.0, 68.0)\n"
     ]
    }
   ],
   "source": [
    "def convert (c,k):\n",
    "    f=c*9/5 + 32\n",
    "    f2=(k-273)*9/5 + 32\n",
    "    return (f,f2)\n",
    "con=convert(20,293)\n",
    "print(convert(20,293))\n"
   ]
  },
  {
   "cell_type": "code",
   "execution_count": 38,
   "metadata": {},
   "outputs": [
    {
     "name": "stdout",
     "output_type": "stream",
     "text": [
      "266.4833333333333\n"
     ]
    }
   ],
   "source": [
    "def convert (ce):\n",
    "    fa=ce*9/5 + 32\n",
    "    ce=input('Masukkan suhu dalam celcius')\n",
    "    return fa\n",
    "print (convert(20))\n",
    "def k_f (ke):\n",
    "    fa2=(ke-273)*9/5 + 32\n",
    "    ke=input('Masukkan suhu dalam kelvin')\n",
    "    return fa2"
   ]
  },
  {
   "cell_type": "code",
   "execution_count": 43,
   "metadata": {},
   "outputs": [
    {
     "name": "stdout",
     "output_type": "stream",
     "text": [
      "20 C dalam Fahrenheit = 68.0 F\n",
      "293 K dalam Fahrenheit = 67.73000000000005 F\n"
     ]
    }
   ],
   "source": [
    "def convert(c,k):\n",
    "    f=(c*9/5)+32\n",
    "    f2=(k-273.15)*9/5+32\n",
    "    return (f,f2)\n",
    "\n",
    "conv_to_f = convert(20,293)\n",
    "print(f'20 C dalam Fahrenheit = {conv_to_f[0]} F')\n",
    "print(f'293 K dalam Fahrenheit = {conv_to_f[1]} F')"
   ]
  },
  {
   "cell_type": "code",
   "execution_count": 28,
   "metadata": {},
   "outputs": [
    {
     "name": "stdout",
     "output_type": "stream",
     "text": [
      "68 F dalam Celcius = 20.0 C\n"
     ]
    }
   ],
   "source": [
    "#dari f ke c\n",
    "def convert(f):\n",
    "    c= (f - 32)*5/9\n",
    "    return (c)\n",
    "print(f'68 F dalam Celcius = {convert(68)} C')"
   ]
  },
  {
   "cell_type": "code",
   "execution_count": 35,
   "metadata": {},
   "outputs": [
    {
     "name": "stdout",
     "output_type": "stream",
     "text": [
      "80 F dalam Kelvin = 299.81666666666666 K\n"
     ]
    }
   ],
   "source": [
    "def convert(f):\n",
    "    k = (f - 32)*5/9+273.15\n",
    "    return (k)\n",
    "print(f'80 F dalam Kelvin = {convert(80)} K')"
   ]
  }
 ],
 "metadata": {
  "interpreter": {
   "hash": "c43cc35bf10d47ee272d24c9e8f3a3c68ece12bba4bc202b3d531e99134b684d"
  },
  "kernelspec": {
   "display_name": "Python 3.10.1 64-bit",
   "language": "python",
   "name": "python3"
  },
  "language_info": {
   "codemirror_mode": {
    "name": "ipython",
    "version": 3
   },
   "file_extension": ".py",
   "mimetype": "text/x-python",
   "name": "python",
   "nbconvert_exporter": "python",
   "pygments_lexer": "ipython3",
   "version": "3.10.1"
  },
  "orig_nbformat": 4
 },
 "nbformat": 4,
 "nbformat_minor": 2
}
